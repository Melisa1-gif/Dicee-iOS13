{
  "nbformat": 4,
  "nbformat_minor": 0,
  "metadata": {
    "colab": {
      "provenance": [],
      "authorship_tag": "ABX9TyOZZqmveNj3YWPwvZEByC5k",
      "include_colab_link": true
    },
    "kernelspec": {
      "name": "python3",
      "display_name": "Python 3"
    },
    "language_info": {
      "name": "python"
    }
  },
  "cells": [
    {
      "cell_type": "markdown",
      "metadata": {
        "id": "view-in-github",
        "colab_type": "text"
      },
      "source": [
        "<a href=\"https://colab.research.google.com/github/Melisa1-gif/Dicee-iOS13/blob/master/lab1_exam.ipynb\" target=\"_parent\"><img src=\"https://colab.research.google.com/assets/colab-badge.svg\" alt=\"Open In Colab\"/></a>"
      ]
    },
    {
      "cell_type": "code",
      "execution_count": 5,
      "metadata": {
        "colab": {
          "base_uri": "https://localhost:8080/"
        },
        "id": "u5D0rWm7ns_k",
        "outputId": "d7b9c82e-14ae-4796-9a25-591ff413498a"
      },
      "outputs": [
        {
          "output_type": "stream",
          "name": "stdout",
          "text": [
            "What is your first name?Sarah\n",
            "What is your last name?Johnson\n",
            "What is your age?19\n",
            "What is your favourite number?42\n",
            "Personal Information\n",
            "First name Sarah\n",
            "Last name Johnson\n",
            "Age 19\n",
            "Favouritee number: 42\n"
          ]
        }
      ],
      "source": [
        "f_name = input (\"What is your first name?\") #Ask for their first name\n",
        "l_name = input (\"What is your last name?\")  #Ask for their last name\n",
        "age = input (\"What is your age?\")    #Ask for their age\n",
        "fav_no = input (\"What is your favourite number?\")     #Ask for their fav number\n",
        "\n",
        "print(\"Personal Information\")\n",
        "print(\"First name:\", f_name)\n",
        "print(\"Last name:\", l_name)\n",
        "print(\"Age:\", age)\n",
        "print(\"Favouritee number:\", fav_no)\n"
      ]
    },
    {
      "cell_type": "code",
      "source": [
        "radius = float(input(\"What is the radius\"))\n",
        "\n",
        "\n",
        "print(\"Radius\", radius)\n",
        "print(\"Radius squared:\", (radius ** 2))\n",
        "print(\"Pi value:\", 3.14159)\n",
        "print(\"Area:\", 3.14159 * radius ** 2)\n",
        "\n"
      ],
      "metadata": {
        "colab": {
          "base_uri": "https://localhost:8080/"
        },
        "id": "4Wav78XiwcYo",
        "outputId": "f278934b-c3a2-4ff5-b259-8c37ce4693d8"
      },
      "execution_count": 13,
      "outputs": [
        {
          "output_type": "stream",
          "name": "stdout",
          "text": [
            "What is the radius5\n",
            "Radius 5.0\n",
            "Radius squared: 25.0\n",
            "Pi value: 3.14159\n",
            "Area: 78.53975\n"
          ]
        }
      ]
    },
    {
      "cell_type": "code",
      "source": [
        "pizza_slices= int(input(\"How many pizza slices are there?\"))\n",
        "no_friends = int(input(\"How many number of friends are there?\"))\n",
        "\n",
        "print(\"Pizza Sharing Results:\")\n",
        "print(\"Total Slices:\", int(pizza_slices))\n",
        "print(\"Number of friends:\", int(no_friends))\n",
        "print(\"Slices per friend:\", int(pizza_slices// no_friends))\n",
        "print(\"Leftover slices:\", int(pizza_slices% no_friends))\n",
        "print(f\"Each friend gets {int(pizza_slices// no_friends)} slices, with {int(pizza_slices% no_friends)} slices remaining.\")"
      ],
      "metadata": {
        "colab": {
          "base_uri": "https://localhost:8080/"
        },
        "id": "KLW3SIOZytRf",
        "outputId": "0f2b6aa3-6954-4438-ea44-f15fc4c45d42"
      },
      "execution_count": 21,
      "outputs": [
        {
          "output_type": "stream",
          "name": "stdout",
          "text": [
            "How many pizza slices are there?17\n",
            "How many number of friends are there?5\n",
            "Pizza Sharing Results:\n",
            "Total Slices: 17\n",
            "Number of friends: 5\n",
            "Slices per friend: 3\n",
            "Leftover slices: 2\n",
            "Each friend gets 3 slices, with 2 slices remaining.\n"
          ]
        }
      ]
    },
    {
      "cell_type": "code",
      "source": [
        "c_name = input (\"Customer name: \")\n",
        "item = int(input(\"Number of items: \"))\n",
        "price = float(input(\"Average price per item: \"))\n",
        "discount = int(input(\"Discount percentage: \"))\n",
        "\n",
        "subtotal = price * item\n",
        "discount_amount = (discount / 100) * subtotal\n",
        "final_total = subtotal - discount_amount\n",
        "\n",
        "print(f\"Shopping Receipt for {c_name} \")\n",
        "print(\"Items purchased:\", item)\n",
        "print(f\"Price per item: ${price}\")\n",
        "print(f\"Subtotal: ${subtotal:.2f}\")\n",
        "print(\"Discount(15%):\", discount)\n",
        "print(f\"Final total: ${final_total}\")\n",
        "\n",
        "\n"
      ],
      "metadata": {
        "colab": {
          "base_uri": "https://localhost:8080/"
        },
        "id": "4LQw6PjO00_4",
        "outputId": "252c07db-4718-4b49-8185-c7a88e9476f5"
      },
      "execution_count": 25,
      "outputs": [
        {
          "output_type": "stream",
          "name": "stdout",
          "text": [
            "Customer name: Alex Chen\n",
            "Number of items: 8\n",
            "Average price per item: 12.5\n",
            "Discount percentage: 15\n",
            "Shopping Receipt for Alex Chen \n",
            "Items purchased: 8\n",
            "Price per item: $12.5\n",
            "Subtotal: $100.00\n",
            "Discount(15%): 15\n",
            "Final total: $85.0\n"
          ]
        }
      ]
    },
    {
      "cell_type": "code",
      "source": [
        "number = int(input(\"Enter a two-digit number: \"))\n",
        "\n",
        "f_digit = number//10 # Initialize tens digit\n",
        "s_digit = number%10. # Initialize unit digits\n",
        "print(f\"Number Analysis for {number}:\") #Sum of numbers\n",
        "\n",
        "# Print the output\n",
        "print(\"Tens digit:\",f_digit)\n",
        "print(\"Units digit:\",s_digit)\n",
        "print(\"Sum of digits:\", f_digit + s_digit)\n",
        "print(\"Sum data type:\", int)\n"
      ],
      "metadata": {
        "colab": {
          "base_uri": "https://localhost:8080/"
        },
        "id": "A3uUxKVt64ci",
        "outputId": "8c4f8cd0-d550-43ce-a4a7-130394460623"
      },
      "execution_count": 28,
      "outputs": [
        {
          "output_type": "stream",
          "name": "stdout",
          "text": [
            "Enter a two-digit number: 47\n",
            "Number Analysis for 47:\n",
            "Tens digit: 4\n",
            "Units digit: 7.0\n",
            "Sum of digits: 11.0\n",
            "Sum data type: <class 'int'>\n"
          ]
        }
      ]
    },
    {
      "cell_type": "code",
      "source": [],
      "metadata": {
        "id": "xwvvodTv8Nol"
      },
      "execution_count": null,
      "outputs": []
    }
  ]
}